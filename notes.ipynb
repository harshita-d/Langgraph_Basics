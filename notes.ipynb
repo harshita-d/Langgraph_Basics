{
 "cells": [
  {
   "cell_type": "markdown",
   "metadata": {},
   "source": [
    "# LangGraph\n",
    "### LangGraph is used when you want to orchestrate multiple steps of logic (or LLM calls) in a structured way, instead of just calling an LLM once.\n",
    "\n",
    "        - If you just need: “Give me one answer from GPT.” → You use plain LangChain or OpenAI API.\n",
    "        - If you need: “Do this step → then that step → maybe branch depending on output → keep state → then finish.” → You use LangGraph.\n",
    "\n",
    "        - multisteps example:\n",
    "            - Step 1: Summarize a document.\n",
    "            - Step 2: Translate the summary.\n",
    "            - Step 3: Save it into a database.\n",
    "        - Agentic systems (looping until a goal is reached)\n",
    "\n",
    "### Why not just write normal Python functions?\n",
    "\n",
    "        - LangGraph adds structure and visibility:\n",
    "        - Visualizable: you can see the graph of steps.\n",
    "        - Composable: you can reuse nodes and rewire flows easily.\n",
    "        - Safe: prevents infinite loops, enforces type-checked state.\n",
    "        - Async-friendly: handles concurrent nodes.\n",
    "        - LLM-native: integrates smoothly with LangChain, OpenAI, tools, memory.\n",
    "\n",
    "### LangGraph is built on graph theory + state machines.\n",
    "\n",
    "        - Graph Structure\n",
    "            - A LangGraph workflow is represented as a directed graph:\n",
    "            - Nodes = units of work (functions, LLM calls, tools, DB queries, etc.)\n",
    "            - Edges = transitions that connect nodes\n",
    "            - START/END = entry and exit points\n",
    "\n",
    "        - State\n",
    "            - LangGraph is stateful:\n",
    "            - A state object (often a Pydantic model) holds the current data.\n",
    "            - Each node reads state and returns updates.\n",
    "            - State evolves as it flows through the graph.\n",
    "            - The state just carries a text field around.\n",
    "\n",
    "        - Functional Nodes\n",
    "            - The function gets state, transforms it, and returns updates.\n",
    "            - LangGraph manages which node runs next, not you.\n",
    "\n",
    "    ### LangGraph Architecture"
   ]
  },
  {
   "cell_type": "code",
   "execution_count": null,
   "metadata": {},
   "outputs": [],
   "source": []
  },
  {
   "cell_type": "code",
   "execution_count": null,
   "metadata": {},
   "outputs": [],
   "source": []
  }
 ],
 "metadata": {
  "kernelspec": {
   "display_name": "venv",
   "language": "python",
   "name": "python3"
  },
  "language_info": {
   "codemirror_mode": {
    "name": "ipython",
    "version": 3
   },
   "file_extension": ".py",
   "mimetype": "text/x-python",
   "name": "python",
   "nbconvert_exporter": "python",
   "pygments_lexer": "ipython3",
   "version": "3.12.9"
  }
 },
 "nbformat": 4,
 "nbformat_minor": 2
}
