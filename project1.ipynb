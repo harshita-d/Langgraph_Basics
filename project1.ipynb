{
 "cells": [
  {
   "cell_type": "markdown",
   "metadata": {},
   "source": [
    "# Langgraph\n",
    "\n",
    "## imports\n",
    "\n",
    "### 1.StateGraph:\n",
    "\n",
    "While building an AI app, we often need to run a sequence of steps:\n",
    "\n",
    "1. Take user input\n",
    "\n",
    "2. Call an LLM\n",
    "\n",
    "3. Process the response\n",
    "\n",
    "4. Maybe loop or branch depending on the answer\n",
    "\n",
    "Codeing this manually can get messy with lots of if/else, state tracking, and function calls.\n",
    "\n",
    "**StateGraph** makes this cleaner by describing app as a flowchart:\n",
    "\n",
    "> Each node = a function (like “get user input” or “call model”).\n",
    "\n",
    "> he edges = arrows showing what happens next.\n",
    "\n",
    "> The state = shared memory that flows through the graph.\n",
    "\n",
    "- ***State*** → It holds your app’s memory.\n",
    "- ***Nodes*** → These are functions that read the state and return updates.\n",
    "- ***Reducers*** → These are rules that say how to merge new updates into the existing state.\n",
    "- ***Edges*** → Connections that control the flow.\n",
    "- ***END*** → Special node meaning the flow is done.\n",
    "\n",
    "#### rules to create a graph\n",
    "\n",
    "- Create the graph first: ```g = StateGraph(State)```\n",
    "\n",
    "- Add a node before you reference it\n",
    "    - You must add_node(\"name\", fn) before you:\n",
    "        - set it as the entry point, or\n",
    "        - create an edge from/to it.\n",
    "\n",
    "- Set the entry point to an existing node\n",
    "    ```g.set_entry_point(\"greet\")``` only after ```\"greet\"``` is added.\n",
    "\n",
    "- Add edges only between existing nodes (or to ```END```)\n",
    "Both endpoints must exist (except ```END```, which is special).\n",
    "\n",
    "- Compile last\n",
    "    ```app = g.compile()``` after the whole graph is wired.\n",
    "\n",
    "\n",
    "# Langchain\n",
    "\n",
    "## langchain_core: \n",
    "- its a lightweight core package of langchain\n",
    "- This reperesent different kinds of chat messages in a structured way\n",
    "\n",
    "### 1. HumanMessage:\n",
    "- Represent a message sent by the user\n",
    "- it has a **content** field which is the text\n",
    "- it has optional metadata\n",
    "- This helps track who said what in the conversation\n",
    "\n",
    "### 2. AnyMessage:\n",
    "- In LangChain we have: \n",
    "    - **HumanMessage** &rarr; user imput\n",
    "    - **AIMessage** &rarr; model's response\n",
    "    - **SystemMessage** &rarr; system instructions\n",
    "\n",
    "# Typing\n",
    "\n",
    "### Annotated:\n",
    "- it take a type like str, list, Dict etc and add a metadat to it\n",
    "\n",
    "\n",
    "\n",
    "\n"
   ]
  },
  {
   "cell_type": "code",
   "execution_count": 1,
   "metadata": {},
   "outputs": [],
   "source": [
    "from typing import Dict, TypedDict, Annotated\n",
    "from langgraph.graph import StateGraph, END, add_messages, START\n",
    "from langchain_core.messages import AnyMessage, HumanMessage"
   ]
  },
  {
   "cell_type": "markdown",
   "metadata": {},
   "source": [
    "### Example 1"
   ]
  },
  {
   "cell_type": "code",
   "execution_count": 2,
   "metadata": {},
   "outputs": [],
   "source": [
    "class AgentState(TypedDict):\n",
    "    message: str\n",
    "\n",
    "def greeting_node(state: AgentState)->AgentState:\n",
    "    \"\"\"Node that adds a greeting message to the state\"\"\"\n",
    "    state['message']=\"Hey \"+state['message']\n",
    "    return state\n"
   ]
  },
  {
   "cell_type": "code",
   "execution_count": 3,
   "metadata": {},
   "outputs": [],
   "source": [
    "graph=StateGraph(AgentState)\n",
    "graph.add_node(\"greeter\",greeting_node)\n",
    "graph.set_entry_point(\"greeter\")\n",
    "graph.add_edge(\"greeter\", END)\n",
    "app=graph.compile()"
   ]
  },
  {
   "cell_type": "code",
   "execution_count": 4,
   "metadata": {},
   "outputs": [
    {
     "name": "stdout",
     "output_type": "stream",
     "text": [
      "{'message': 'Hey there!'}\n"
     ]
    }
   ],
   "source": [
    "print(app.invoke({\"message\": \"there!\"}))"
   ]
  },
  {
   "cell_type": "code",
   "execution_count": 5,
   "metadata": {},
   "outputs": [
    {
     "data": {
      "image/png": "[encoded data removed]",
      "text/plain": [
       "<IPython.core.display.Image object>"
      ]
     },
     "metadata": {},
     "output_type": "display_data"
    }
   ],
   "source": [
    "from IPython.display import Image, display\n",
    "display(Image(app.get_graph().draw_mermaid_png()))"
   ]
  },
  {
   "cell_type": "markdown",
   "metadata": {},
   "source": [
    "### Example 2"
   ]
  },
  {
   "cell_type": "markdown",
   "metadata": {},
   "source": [
    "#### Steps:\n",
    "- Define Class\n",
    "- node function: read state &rarr; returns partial update\n",
    "- Build the graph"
   ]
  },
  {
   "cell_type": "code",
   "execution_count": 6,
   "metadata": {},
   "outputs": [],
   "source": [
    "# 1.) Define Class\n",
    "class State(TypedDict):\n",
    "    messages: Annotated[list[AnyMessage], add_messages]\n",
    "    turns: int"
   ]
  },
  {
   "cell_type": "code",
   "execution_count": 7,
   "metadata": {},
   "outputs": [],
   "source": [
    "# 2.) node function 1\n",
    "def greet(state: State) -> State:\n",
    "    last_msg=state['messages'][-1].content\n",
    "    return {\n",
    "        \"messages\":[HumanMessage(content=\"Hey \"+last_msg)],\n",
    "        \"turns\": state.get(\"turns\", 0) + 1\n",
    "    }"
   ]
  },
  {
   "cell_type": "code",
   "execution_count": 8,
   "metadata": {},
   "outputs": [],
   "source": [
    "def next_greet(state: State)->State:\n",
    "    last_msg=state['messages'][-1].content\n",
    "    return {\n",
    "        \"messages\":[HumanMessage(content=\"Hello \"+last_msg)],\n",
    "        \"turns\": state[\"turns\"]+1\n",
    "    }"
   ]
  },
  {
   "cell_type": "code",
   "execution_count": 9,
   "metadata": {},
   "outputs": [
    {
     "data": {
      "text/plain": [
       "<langgraph.graph.state.StateGraph at 0x1176d8a70>"
      ]
     },
     "execution_count": 9,
     "metadata": {},
     "output_type": "execute_result"
    }
   ],
   "source": [
    "# 3) Build the graph\n",
    "g=StateGraph(State)\n",
    "g.add_node(\"greet\", greet)\n",
    "g.add_node(\"next_greet\", next_greet)\n",
    "g.set_entry_point(\"greet\")\n",
    "g.add_edge(\"greet\", \"next_greet\")\n"
   ]
  },
  {
   "cell_type": "markdown",
   "metadata": {},
   "source": [
    "#### &rarr; add_conditional_edges\n",
    "```python\n",
    "graph.add_conditional_edges(\n",
    "    \"decider\",        # the node after which branching happens\n",
    "    router_function,  # a function(state) -> key\n",
    "    {\n",
    "        \"path1\": \"nodeA\",\n",
    "        \"path2\": \"nodeB\",\n",
    "        END: END\n",
    "    }\n",
    ")\n",
    "```\n",
    "- where **\"path1\"** is the return value from router_function \n",
    "- if the value returned is **\"path1\"** than will go to **\"nodeA\"** else **\"END\"**"
   ]
  },
  {
   "cell_type": "code",
   "execution_count": 10,
   "metadata": {},
   "outputs": [],
   "source": [
    "def turn_condition(state: State)->State:\n",
    "    return \"first\" if state['turns']<2 else END"
   ]
  },
  {
   "cell_type": "code",
   "execution_count": 11,
   "metadata": {},
   "outputs": [
    {
     "data": {
      "text/plain": [
       "<langgraph.graph.state.StateGraph at 0x1176d8a70>"
      ]
     },
     "execution_count": 11,
     "metadata": {},
     "output_type": "execute_result"
    }
   ],
   "source": [
    "g.add_conditional_edges(\"next_greet\", turn_condition,{\"first\": \"greet\", END:END})"
   ]
  },
  {
   "cell_type": "code",
   "execution_count": 12,
   "metadata": {},
   "outputs": [],
   "source": [
    "app=g.compile()"
   ]
  },
  {
   "cell_type": "code",
   "execution_count": 13,
   "metadata": {},
   "outputs": [],
   "source": [
    "result = app.invoke({\"messages\": [HumanMessage(content=\"\")], \"turns\": 0})"
   ]
  },
  {
   "cell_type": "code",
   "execution_count": 14,
   "metadata": {},
   "outputs": [
    {
     "data": {
      "text/plain": [
       "{'messages': [HumanMessage(content='', additional_kwargs={}, response_metadata={}, id='946b8307-0db0-48be-877c-68dc897cdcf7'),\n",
       "  HumanMessage(content='Hey ', additional_kwargs={}, response_metadata={}, id='b361e49a-52d7-4f33-afe9-2280844028d8'),\n",
       "  HumanMessage(content='Hello Hey ', additional_kwargs={}, response_metadata={}, id='5ea82a8d-4360-415c-bb73-da292960ecd5')],\n",
       " 'turns': 2}"
      ]
     },
     "execution_count": 14,
     "metadata": {},
     "output_type": "execute_result"
    }
   ],
   "source": [
    "result"
   ]
  },
  {
   "cell_type": "code",
   "execution_count": 15,
   "metadata": {},
   "outputs": [],
   "source": [
    "result2=app.invoke({\n",
    "        \"messages\": [\n",
    "            HumanMessage(content=\"Hey there!\"),\n",
    "            HumanMessage(content=\"How are you doing?\"),\n",
    "            HumanMessage(content=\"This is a second line in the same step.\"),\n",
    "        ],\n",
    "        \"turns\": 0,\n",
    "    })"
   ]
  },
  {
   "cell_type": "code",
   "execution_count": 16,
   "metadata": {},
   "outputs": [
    {
     "data": {
      "text/plain": [
       "{'messages': [HumanMessage(content='Hey there!', additional_kwargs={}, response_metadata={}, id='36836c0b-9fbd-48d1-be38-09a2a2f889ec'),\n",
       "  HumanMessage(content='How are you doing?', additional_kwargs={}, response_metadata={}, id='7098c044-354e-447a-89ce-91a07c2108e3'),\n",
       "  HumanMessage(content='This is a second line in the same step.', additional_kwargs={}, response_metadata={}, id='c6940fa1-baba-499b-aab7-cddb1ebf554e'),\n",
       "  HumanMessage(content='Hey This is a second line in the same step.', additional_kwargs={}, response_metadata={}, id='c9c7513c-740f-4445-8a96-cbb69a773232'),\n",
       "  HumanMessage(content='Hello Hey This is a second line in the same step.', additional_kwargs={}, response_metadata={}, id='ae939d92-193e-4ebb-a416-2f7d2d2b93c6')],\n",
       " 'turns': 2}"
      ]
     },
     "execution_count": 16,
     "metadata": {},
     "output_type": "execute_result"
    }
   ],
   "source": [
    "result2"
   ]
  },
  {
   "cell_type": "code",
   "execution_count": 17,
   "metadata": {},
   "outputs": [
    {
     "data": {
      "image/png": "[encoded data removed]",
      "text/plain": [
       "<IPython.core.display.Image object>"
      ]
     },
     "metadata": {},
     "output_type": "display_data"
    }
   ],
   "source": [
    "\n",
    "display(Image(app.get_graph().draw_mermaid_png()))"
   ]
  },
  {
   "cell_type": "markdown",
   "metadata": {},
   "source": [
    "### Example 3\n",
    "\n",
    "#### Personalized Compliment Agent"
   ]
  },
  {
   "cell_type": "code",
   "execution_count": 18,
   "metadata": {},
   "outputs": [
    {
     "name": "stdout",
     "output_type": "stream",
     "text": [
      "{'name': [HumanMessage(content='Alice, you are amazing', additional_kwargs={}, response_metadata={}, id='c70ffbd6-a9b6-4459-8076-b6012929e274'), HumanMessage(content='Bob, you are amazing', additional_kwargs={}, response_metadata={}, id='a2bd53eb-a69d-4ec6-ac9d-3794277b49af')]}\n"
     ]
    },
    {
     "data": {
      "image/png": "[encoded data removed]",
      "text/plain": [
       "<IPython.core.display.Image object>"
      ]
     },
     "metadata": {},
     "output_type": "display_data"
    }
   ],
   "source": [
    "class ComplimentAgent(TypedDict):\n",
    "    name:Annotated[list[AnyMessage], add_messages]\n",
    "\n",
    "def compliement(state: ComplimentAgent)->ComplimentAgent:\n",
    "    text=[HumanMessage(content=f\"{name.content}, you are amazing\", id=name.id) for name in state['name']]\n",
    "    return {\"name\": text}\n",
    "\n",
    "comp=StateGraph(ComplimentAgent)\n",
    "comp.add_node(\"node1\", compliement)\n",
    "comp.set_entry_point(\"node1\")\n",
    "comp.add_edge(\"node1\",END)\n",
    "comp_app=comp.compile()\n",
    "\n",
    "initial = {\n",
    "    \"name\": [HumanMessage(content=\"Alice\"), HumanMessage(content=\"Bob\")]\n",
    "}\n",
    "result = comp_app.invoke(initial)\n",
    "print(result)\n",
    "\n",
    "display(Image(comp_app.get_graph().draw_mermaid_png()))\n"
   ]
  },
  {
   "cell_type": "markdown",
   "metadata": {},
   "source": [
    "### Example 4\n",
    "\n",
    "#### Calculation of Values"
   ]
  },
  {
   "cell_type": "code",
   "execution_count": 19,
   "metadata": {},
   "outputs": [
    {
     "data": {
      "image/png": "[encoded data removed]",
      "text/plain": [
       "<IPython.core.display.Image object>"
      ]
     },
     "metadata": {},
     "output_type": "display_data"
    },
    {
     "name": "stdout",
     "output_type": "stream",
     "text": [
      "{'values': [1, 2, 3, 4], 'name': 'hrs', 'result': 'Multiply for hrs here is 24', 'add': 10, 'multi': 24}\n"
     ]
    }
   ],
   "source": [
    "from functools import reduce\n",
    "\n",
    "\n",
    "class SumAgent(TypedDict):\n",
    "    values: list[int]\n",
    "    name: str\n",
    "    result: str\n",
    "    add: int\n",
    "    multi: int\n",
    "\n",
    "\n",
    "def sum_values(state: SumAgent) -> SumAgent:\n",
    "    \"\"\"This function handles sum of multiple different input\"\"\"\n",
    "    state[\"result\"] = f\"Sum for {state['name']} here is {sum(state['values'])}\"\n",
    "    state[\"add\"] = sum(state[\"values\"])\n",
    "    return state\n",
    "\n",
    "\n",
    "def multiply_values(state: SumAgent) -> SumAgent:\n",
    "    \"\"\"This function handles multiply of multiple different inputs\"\"\"\n",
    "    state[\"result\"] = (\n",
    "        f\"Multiply for {state['name']} here is {reduce(lambda x, y: x*y, (state['values']))}\"\n",
    "    )\n",
    "    state[\"multi\"] = reduce(lambda x, y: x * y, (state[\"values\"]))\n",
    "    return state\n",
    "\n",
    "\n",
    "cal_graph = StateGraph(SumAgent)\n",
    "cal_graph.add_node(\"sum_process\", sum_values)\n",
    "cal_graph.add_node(\"multiply_process\", multiply_values)\n",
    "cal_graph.set_entry_point(\"sum_process\")\n",
    "cal_graph.add_edge(\"sum_process\", \"multiply_process\")\n",
    "cal_graph.set_finish_point(\"multiply_process\")\n",
    "cal_app = cal_graph.compile()\n",
    "display(Image(cal_app.get_graph().draw_mermaid_png()))\n",
    "\n",
    "cal_initial = {\"values\": [1, 2, 3, 4], \"name\": \"hrs\"}\n",
    "cal_result = cal_app.invoke(cal_initial)\n",
    "print(cal_result)"
   ]
  },
  {
   "cell_type": "markdown",
   "metadata": {},
   "source": [
    "### Example 5\n",
    "\n",
    "#### Conditional Nodes"
   ]
  },
  {
   "cell_type": "code",
   "execution_count": 22,
   "metadata": {},
   "outputs": [
    {
     "data": {
      "image/png": "[encoded data removed]",
      "text/plain": [
       "<IPython.core.display.Image object>"
      ]
     },
     "metadata": {},
     "output_type": "display_data"
    },
    {
     "name": "stdout",
     "output_type": "stream",
     "text": [
      "{'num1': 2, 'num2': 4, 'oper': '+', 'result': 6}\n"
     ]
    }
   ],
   "source": [
    "class ArithmeticOp(TypedDict):\n",
    "    num1: int\n",
    "    num2: int\n",
    "    oper: str\n",
    "    result: float\n",
    "\n",
    "\n",
    "def sumOp(state: ArithmeticOp) -> ArithmeticOp:\n",
    "    state[\"result\"] = state[\"num1\"] + state[\"num2\"]\n",
    "    return state\n",
    "\n",
    "\n",
    "def subOp(state: ArithmeticOp) -> ArithmeticOp:\n",
    "    state[\"result\"] = state[\"num1\"] - state[\"num2\"]\n",
    "    return state\n",
    "\n",
    "\n",
    "def multOp(state: ArithmeticOp) -> ArithmeticOp:\n",
    "    state[\"result\"] = state[\"num1\"] * state[\"num2\"]\n",
    "    return state\n",
    "\n",
    "\n",
    "def decide_next_node(state: ArithmeticOp) -> ArithmeticOp:\n",
    "    if state[\"oper\"] == \"+\":\n",
    "        return \"sum_operation\"\n",
    "    elif state[\"oper\"] == \"-\":\n",
    "        return \"sub_operation\"\n",
    "    else:\n",
    "        return \"multi_operation\"\n",
    "\n",
    "\n",
    "arith_graph = StateGraph(ArithmeticOp)\n",
    "arith_graph.add_node(\"sum\", sumOp)\n",
    "arith_graph.add_node(\"sub\", subOp)\n",
    "arith_graph.add_node(\"multi\", multOp)\n",
    "arith_graph.add_node(\"router\", lambda state: state)\n",
    "\n",
    "arith_graph.add_edge(START, \"router\")\n",
    "arith_graph.add_conditional_edges(\n",
    "    \"router\",\n",
    "    decide_next_node,\n",
    "    {\"sum_operation\": \"sum\", \"sub_operation\": \"sub\", \"multi_operation\": \"multi\"},\n",
    ")\n",
    "arith_graph.add_edge(\"sum\", END)\n",
    "arith_graph.add_edge(\"sub\", END)\n",
    "arith_graph.add_edge(\"multi\", END)\n",
    "\n",
    "arith_app=arith_graph.compile()\n",
    "display(Image(arith_app.get_graph().draw_mermaid_png()))\n",
    "arith_result=arith_app.invoke({\"num1\":2, \"num2\":4, \"oper\":\"+\"})\n",
    "print(arith_result)"
   ]
  },
  {
   "cell_type": "code",
   "execution_count": null,
   "metadata": {},
   "outputs": [],
   "source": []
  }
 ],
 "metadata": {
  "kernelspec": {
   "display_name": "venv",
   "language": "python",
   "name": "python3"
  },
  "language_info": {
   "codemirror_mode": {
    "name": "ipython",
    "version": 3
   },
   "file_extension": ".py",
   "mimetype": "text/x-python",
   "name": "python",
   "nbconvert_exporter": "python",
   "pygments_lexer": "ipython3",
   "version": "3.12.9"
  }
 },
 "nbformat": 4,
 "nbformat_minor": 2
}
