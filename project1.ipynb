{
 "cells": [
  {
   "cell_type": "markdown",
   "metadata": {},
   "source": [
    "# Langgraph\n",
    "\n",
    "## imports\n",
    "\n",
    "### 1.StateGraph:\n",
    "\n",
    "While building an AI app, we often need to run a sequence of steps:\n",
    "\n",
    "1. Take user input\n",
    "\n",
    "2. Call an LLM\n",
    "\n",
    "3. Process the response\n",
    "\n",
    "4. Maybe loop or branch depending on the answer\n",
    "\n",
    "Codeing this manually can get messy with lots of if/else, state tracking, and function calls.\n",
    "\n",
    "**StateGraph** makes this cleaner by describing app as a flowchart:\n",
    "\n",
    "> Each node = a function (like “get user input” or “call model”).\n",
    "\n",
    "> he edges = arrows showing what happens next.\n",
    "\n",
    "> The state = shared memory that flows through the graph.\n",
    "\n",
    "- ***State*** → It holds your app’s memory.\n",
    "- ***Nodes*** → These are functions that read the state and return updates.\n",
    "- ***Reducers*** → These are rules that say how to merge new updates into the existing state.\n",
    "- ***Edges*** → Connections that control the flow.\n",
    "- ***END*** → Special node meaning the flow is done.\n",
    "\n",
    "#### rules to create a graph\n",
    "\n",
    "- Create the graph first: ```g = StateGraph(State)```\n",
    "\n",
    "- Add a node before you reference it\n",
    "    - You must add_node(\"name\", fn) before you:\n",
    "        - set it as the entry point, or\n",
    "        - create an edge from/to it.\n",
    "\n",
    "- Set the entry point to an existing node\n",
    "    ```g.set_entry_point(\"greet\")``` only after ```\"greet\"``` is added.\n",
    "\n",
    "- Add edges only between existing nodes (or to ```END```)\n",
    "Both endpoints must exist (except ```END```, which is special).\n",
    "\n",
    "- Compile last\n",
    "    ```app = g.compile()``` after the whole graph is wired.\n",
    "\n",
    "\n",
    "# Langchain\n",
    "\n",
    "## langchain_core: \n",
    "- its a lightweight core package of langchain\n",
    "- This reperesent different kinds of chat messages in a structured way\n",
    "\n",
    "### 1. HumanMessage:\n",
    "- Represent a message sent by the user\n",
    "- it has a **content** field which is the text\n",
    "- it has optional metadata\n",
    "- This helps track who said what in the conversation\n",
    "\n",
    "### 2. AnyMessage:\n",
    "- In LangChain we have: \n",
    "    - **HumanMessage** &rarr; user imput\n",
    "    - **AIMessage** &rarr; model's response\n",
    "    - **SystemMessage** &rarr; system instructions\n",
    "\n",
    "# Typing\n",
    "\n",
    "### Annotated:\n",
    "- it take a type like str, list, Dict etc and add a metadat to it\n",
    "\n",
    "\n",
    "\n",
    "\n"
   ]
  },
  {
   "cell_type": "code",
   "execution_count": 1,
   "metadata": {},
   "outputs": [],
   "source": [
    "from typing import Dict, TypedDict, Annotated\n",
    "from langgraph.graph import StateGraph, END, add_messages\n",
    "from langchain_core.messages import AnyMessage, HumanMessage"
   ]
  },
  {
   "cell_type": "markdown",
   "metadata": {},
   "source": [
    "### Example 1"
   ]
  },
  {
   "cell_type": "code",
   "execution_count": 2,
   "metadata": {},
   "outputs": [],
   "source": [
    "class AgentState(TypedDict):\n",
    "    message: str\n",
    "\n",
    "def greeting_node(state: AgentState)->AgentState:\n",
    "    \"\"\"Node that adds a greeting message to the state\"\"\"\n",
    "    state['message']=\"Hey \"+state['message']\n",
    "    return state\n"
   ]
  },
  {
   "cell_type": "code",
   "execution_count": 3,
   "metadata": {},
   "outputs": [],
   "source": [
    "graph=StateGraph(AgentState)\n",
    "graph.add_node(\"greeter\",greeting_node)\n",
    "graph.set_entry_point(\"greeter\")\n",
    "graph.add_edge(\"greeter\", END)\n",
    "app=graph.compile()"
   ]
  },
  {
   "cell_type": "code",
   "execution_count": 4,
   "metadata": {},
   "outputs": [
    {
     "name": "stdout",
     "output_type": "stream",
     "text": [
      "{'message': 'Hey there!'}\n"
     ]
    }
   ],
   "source": [
    "print(app.invoke({\"message\": \"there!\"}))"
   ]
  },
  {
   "cell_type": "code",
   "execution_count": 5,
   "metadata": {},
   "outputs": [
    {
     "data": {
      "image/png": "[encoded data removed]",
      "text/plain": [
       "<IPython.core.display.Image object>"
      ]
     },
     "metadata": {},
     "output_type": "display_data"
    }
   ],
   "source": [
    "from IPython.display import Image, display\n",
    "display(Image(app.get_graph().draw_mermaid_png()))"
   ]
  },
  {
   "cell_type": "markdown",
   "metadata": {},
   "source": [
    "### Example 2"
   ]
  },
  {
   "cell_type": "markdown",
   "metadata": {},
   "source": [
    "#### Steps:\n",
    "- Define Class\n",
    "- node function: read state &rarr; returns partial update\n",
    "- Build the graph"
   ]
  },
  {
   "cell_type": "code",
   "execution_count": 6,
   "metadata": {},
   "outputs": [],
   "source": [
    "# 1.) Define Class\n",
    "class State(TypedDict):\n",
    "    messages: Annotated[list[AnyMessage], add_messages]\n",
    "    turns: int"
   ]
  },
  {
   "cell_type": "code",
   "execution_count": 7,
   "metadata": {},
   "outputs": [],
   "source": [
    "# 2.) node function 1\n",
    "def greet(state: State) -> State:\n",
    "    last_msg=state['messages'][-1].content\n",
    "    return {\n",
    "        \"messages\":[HumanMessage(content=\"Hey \"+last_msg)],\n",
    "        \"turns\": state.get(\"turns\", 0) + 1\n",
    "    }"
   ]
  },
  {
   "cell_type": "code",
   "execution_count": 8,
   "metadata": {},
   "outputs": [],
   "source": [
    "def next_greet(state: State)->State:\n",
    "    last_msg=state['messages'][-1].content\n",
    "    return {\n",
    "        \"messages\":[HumanMessage(content=\"Hello \"+last_msg)],\n",
    "        \"turns\": state[\"turns\"]+1\n",
    "    }"
   ]
  },
  {
   "cell_type": "code",
   "execution_count": 9,
   "metadata": {},
   "outputs": [
    {
     "data": {
      "text/plain": [
       "<langgraph.graph.state.StateGraph at 0x1156d8e30>"
      ]
     },
     "execution_count": 9,
     "metadata": {},
     "output_type": "execute_result"
    }
   ],
   "source": [
    "# 3) Build the graph\n",
    "g=StateGraph(State)\n",
    "g.add_node(\"greet\", greet)\n",
    "g.add_node(\"next_greet\", next_greet)\n",
    "g.set_entry_point(\"greet\")\n",
    "g.add_edge(\"greet\", \"next_greet\")\n"
   ]
  },
  {
   "cell_type": "markdown",
   "metadata": {},
   "source": [
    "#### &rarr; add_conditional_edges\n",
    "```python\n",
    "graph.add_conditional_edges(\n",
    "    \"decider\",        # the node after which branching happens\n",
    "    router_function,  # a function(state) -> key\n",
    "    {\n",
    "        \"path1\": \"nodeA\",\n",
    "        \"path2\": \"nodeB\",\n",
    "        END: END\n",
    "    }\n",
    ")\n",
    "```\n",
    "- where **\"path1\"** is the return value from router_function \n",
    "- if the value returned is **\"path1\"** than will go to **\"nodeA\"** else **\"END\"**"
   ]
  },
  {
   "cell_type": "code",
   "execution_count": 10,
   "metadata": {},
   "outputs": [],
   "source": [
    "def turn_condition(state: State)->State:\n",
    "    return \"first\" if state['turns']<2 else END"
   ]
  },
  {
   "cell_type": "code",
   "execution_count": 11,
   "metadata": {},
   "outputs": [
    {
     "data": {
      "text/plain": [
       "<langgraph.graph.state.StateGraph at 0x1156d8e30>"
      ]
     },
     "execution_count": 11,
     "metadata": {},
     "output_type": "execute_result"
    }
   ],
   "source": [
    "g.add_conditional_edges(\"next_greet\", turn_condition,{\"first\": \"greet\", END:END})"
   ]
  },
  {
   "cell_type": "code",
   "execution_count": 12,
   "metadata": {},
   "outputs": [],
   "source": [
    "app=g.compile()"
   ]
  },
  {
   "cell_type": "code",
   "execution_count": 15,
   "metadata": {},
   "outputs": [],
   "source": [
    "result = app.invoke({\"messages\": [HumanMessage(content=\"\")], \"turns\": 0})"
   ]
  },
  {
   "cell_type": "code",
   "execution_count": 16,
   "metadata": {},
   "outputs": [
    {
     "data": {
      "text/plain": [
       "{'messages': [HumanMessage(content='', additional_kwargs={}, response_metadata={}, id='5c9447a9-d5b1-4d3b-95f6-5b568db41428'),\n",
       "  HumanMessage(content='Hey ', additional_kwargs={}, response_metadata={}, id='2c9c19e1-f912-4a81-931b-9cd60b47a184'),\n",
       "  HumanMessage(content='Hello Hey ', additional_kwargs={}, response_metadata={}, id='6a10d3ff-5d36-4107-88b3-1dc62a2c8c83')],\n",
       " 'turns': 2}"
      ]
     },
     "execution_count": 16,
     "metadata": {},
     "output_type": "execute_result"
    }
   ],
   "source": [
    "result"
   ]
  },
  {
   "cell_type": "code",
   "execution_count": 17,
   "metadata": {},
   "outputs": [],
   "source": [
    "result2=app.invoke({\n",
    "        \"messages\": [\n",
    "            HumanMessage(content=\"Hey there!\"),\n",
    "            HumanMessage(content=\"How are you doing?\"),\n",
    "            HumanMessage(content=\"This is a second line in the same step.\"),\n",
    "        ],\n",
    "        \"turns\": 0,\n",
    "    })"
   ]
  },
  {
   "cell_type": "code",
   "execution_count": 18,
   "metadata": {},
   "outputs": [
    {
     "data": {
      "text/plain": [
       "{'messages': [HumanMessage(content='Hey there!', additional_kwargs={}, response_metadata={}, id='8dae51cb-2785-40dc-8052-425120056191'),\n",
       "  HumanMessage(content='How are you doing?', additional_kwargs={}, response_metadata={}, id='466b34ee-99e0-44de-bbd3-dfb1b9b03efc'),\n",
       "  HumanMessage(content='This is a second line in the same step.', additional_kwargs={}, response_metadata={}, id='b335584b-098b-4b89-9abd-e79cdbbc2fa5'),\n",
       "  HumanMessage(content='Hey This is a second line in the same step.', additional_kwargs={}, response_metadata={}, id='d5b0828d-43e6-4f76-a005-663b0724cfad'),\n",
       "  HumanMessage(content='Hello Hey This is a second line in the same step.', additional_kwargs={}, response_metadata={}, id='f3353fd2-56d5-4dea-a59f-3d64cfc783d9')],\n",
       " 'turns': 2}"
      ]
     },
     "execution_count": 18,
     "metadata": {},
     "output_type": "execute_result"
    }
   ],
   "source": [
    "result2"
   ]
  },
  {
   "cell_type": "code",
   "execution_count": 19,
   "metadata": {},
   "outputs": [
    {
     "data": {
      "image/png": "[encoded data removed]",
      "text/plain": [
       "<IPython.core.display.Image object>"
      ]
     },
     "metadata": {},
     "output_type": "display_data"
    }
   ],
   "source": [
    "\n",
    "display(Image(app.get_graph().draw_mermaid_png()))"
   ]
  },
  {
   "cell_type": "markdown",
   "metadata": {},
   "source": [
    "### Example 3\n",
    "\n",
    "#### Personalized Compliment Agent"
   ]
  },
  {
   "cell_type": "code",
   "execution_count": 43,
   "metadata": {},
   "outputs": [
    {
     "name": "stdout",
     "output_type": "stream",
     "text": [
      "{'name': [HumanMessage(content='Alice, you are amazing', additional_kwargs={}, response_metadata={}, id='fa140f9e-7c07-4a2a-9564-8b92de4b6b5d'), HumanMessage(content='Bob, you are amazing', additional_kwargs={}, response_metadata={}, id='1ce6731e-e4fa-471b-9e76-7f05052fe689')]}\n"
     ]
    }
   ],
   "source": [
    "class ComplimentAgent(TypedDict):\n",
    "    name:Annotated[list[AnyMessage], add_messages]\n",
    "\n",
    "def compliement(state: ComplimentAgent)->ComplimentAgent:\n",
    "    text=[HumanMessage(content=f\"{name.content}, you are amazing\", id=name.id) for name in state['name']]\n",
    "    return {\"name\": text}\n",
    "\n",
    "comp=StateGraph(ComplimentAgent)\n",
    "comp.add_node(\"node1\", compliement)\n",
    "comp.set_entry_point(\"node1\")\n",
    "comp.add_edge(\"node1\",END)\n",
    "comp_app=comp.compile()\n",
    "\n",
    "initial = {\n",
    "    \"name\": [HumanMessage(content=\"Alice\"), HumanMessage(content=\"Bob\")]\n",
    "}\n",
    "result = comp_app.invoke(initial)\n",
    "print(result)\n"
   ]
  },
  {
   "cell_type": "code",
   "execution_count": null,
   "metadata": {},
   "outputs": [],
   "source": []
  }
 ],
 "metadata": {
  "kernelspec": {
   "display_name": "venv",
   "language": "python",
   "name": "python3"
  },
  "language_info": {
   "codemirror_mode": {
    "name": "ipython",
    "version": 3
   },
   "file_extension": ".py",
   "mimetype": "text/x-python",
   "name": "python",
   "nbconvert_exporter": "python",
   "pygments_lexer": "ipython3",
   "version": "3.12.9"
  }
 },
 "nbformat": 4,
 "nbformat_minor": 2
}
